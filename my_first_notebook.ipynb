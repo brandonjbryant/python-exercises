{
 "cells": [
  {
   "cell_type": "code",
   "execution_count": 1,
   "metadata": {},
   "outputs": [
    {
     "ename": "SyntaxError",
     "evalue": "Missing parentheses in call to 'print'. Did you mean print(1 +4)? (<ipython-input-1-e4daf9548739>, line 1)",
     "output_type": "error",
     "traceback": [
      "\u001b[0;36m  File \u001b[0;32m\"<ipython-input-1-e4daf9548739>\"\u001b[0;36m, line \u001b[0;32m1\u001b[0m\n\u001b[0;31m    print 1 +4\u001b[0m\n\u001b[0m          ^\u001b[0m\n\u001b[0;31mSyntaxError\u001b[0m\u001b[0;31m:\u001b[0m Missing parentheses in call to 'print'. Did you mean print(1 +4)?\n"
     ]
    }
   ],
   "source": [
    "print 1 +4"
   ]
  },
  {
   "cell_type": "code",
   "execution_count": 2,
   "metadata": {},
   "outputs": [
    {
     "name": "stdout",
     "output_type": "stream",
     "text": [
      "5\n"
     ]
    }
   ],
   "source": [
    "print(1 + 4)\n"
   ]
  },
  {
   "cell_type": "code",
   "execution_count": 3,
   "metadata": {},
   "outputs": [],
   "source": [
    "greetings = \"World Hello!\""
   ]
  },
  {
   "cell_type": "code",
   "execution_count": null,
   "metadata": {},
   "outputs": [],
   "source": [
    "print(greetings, 1 + 4)"
   ]
  },
  {
   "cell_type": "code",
   "execution_count": null,
   "metadata": {},
   "outputs": [],
   "source": [
    "Shortcuts: \n",
    "\n",
    "Esc : will take you into command mode \n",
    "    While in command mode:\n",
    "        -A to insert a new cell above the current cell\n",
    "        -B to insert a new cell below.\n",
    "        -M to change the current cell to Markdown \n",
    "        -Y to change it back to code\n",
    "        -D + D (press the key twice) to delete the current cell\n",
    "Enter : Takes you from command mode back into edit mode for the given cell.\n",
    "Shift + Tab : Shows you the Docstring (documentation) for the the object you have just typed in a code cell – you can keep pressing this short cut to cycle through a few modes of documentation.\n",
    "Ctrl + Shift + -  : Splits the current cell into two from where your cursor is.\n",
    "Esc + F : Find and replace on your code but not the outputs.\n",
    "Esc + O : Toggle cell output.\n",
    "\n",
    "    Select Multiple Cells:\n",
    "        -Shift + J or Shift + Down :selects the next sell in a downwards direction. "
   ]
  }
 ],
 "metadata": {
  "kernelspec": {
   "display_name": "Python 3",
   "language": "python",
   "name": "python3"
  },
  "language_info": {
   "codemirror_mode": {
    "name": "ipython",
    "version": 3
   },
   "file_extension": ".py",
   "mimetype": "text/x-python",
   "name": "python",
   "nbconvert_exporter": "python",
   "pygments_lexer": "ipython3",
   "version": "3.8.5"
  }
 },
 "nbformat": 4,
 "nbformat_minor": 4
}
